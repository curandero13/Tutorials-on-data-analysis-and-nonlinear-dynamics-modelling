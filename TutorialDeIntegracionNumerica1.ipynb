{
 "cells": [
  {
   "cell_type": "markdown",
   "metadata": {},
   "source": [
    "# Tutorial de solución de ecuaciones diferenciales ordinarias con parámetros constantes\n",
    "### Lourdes Martín Aguilar, César Flores López & Marco Herrera Valdez  \n",
    "#### Facultad de Ciencias, Universidad Nacional Autónoma de México\n",
    "\n",
    "Resolvamos un problema con valor inicial para una variable $x$ que depende de $t$\n",
    "\n",
    "\\begin{equation}\n",
    "\\partial_t x = \\frac{a - x}{\\tau}, \\quad x(t_0) = 0, \\quad (1)\n",
    "\\end{equation}\n",
    "\n",
    "Utilizando las rutinas de integración numérica del módulo _scipy_ de _Python_\n",
    "\n",
    "## Solución analítica\n",
    "\n",
    "La solución de la ecuación (1) se puede obtener analíticamente separando variables e integrando en el intervalo [0,t]:\n",
    "\n",
    "La solución analítica es de la forma\n",
    "\n",
    "\\begin{equation} \n",
    "x(t) = a - \\left( a - x_0\\right) \\exp \\left(-\\frac{t}{\\tau} \\right)\n",
    "\\end{equation}\n",
    "\n",
    "Compararemos $x(t)$ con la solución numérica $u(t)$ obtenida con _python_"
   ]
  },
  {
   "cell_type": "markdown",
   "metadata": {},
   "source": [
    "Primero importemos los módulos necesarios"
   ]
  },
  {
   "cell_type": "code",
   "execution_count": 1,
   "metadata": {
    "collapsed": false
   },
   "outputs": [],
   "source": [
    "import scipy as sc\n",
    "import matplotlib.pylab as gr \n",
    "from scipy.integrate import odeint \n",
    "%matplotlib inline "
   ]
  },
  {
   "cell_type": "markdown",
   "metadata": {},
   "source": [
    "El módulo scipy tiene herramientas para hacer cálculos numéricos, el módulo pylab de matplotlib contiene herramientas para graficar arreglos, listas y otros objetos de Python. El comando matplotlib inline instruye al kernel de Jupyter (o ipython notebook) para que muestre las figuras dentro del documento."
   ]
  },
  {
   "cell_type": "markdown",
   "metadata": {},
   "source": [
    "Definamos una función para que _Python_ la integre numéricamente"
   ]
  },
  {
   "cell_type": "code",
   "execution_count": 2,
   "metadata": {
    "collapsed": false
   },
   "outputs": [],
   "source": [
    "def linearEq(u,t,p): \n",
    "    du = (p[\"a\"]-u)/p[\"tau\"]\n",
    "    return du \n",
    "\n"
   ]
  },
  {
   "cell_type": "markdown",
   "metadata": {},
   "source": [
    "¿Por qué así y no de otra forma? Por ejemplo:"
   ]
  },
  {
   "cell_type": "code",
   "execution_count": 3,
   "metadata": {
    "collapsed": true
   },
   "outputs": [],
   "source": [
    "def linearEq2(u,t,a,b): \n",
    "    du = (a-u)/b\n",
    "    return du "
   ]
  },
  {
   "cell_type": "markdown",
   "metadata": {},
   "source": [
    "Este modo de escribir la ecuación no nos permite variar los valores de los parámetros si así lo quisiéramos."
   ]
  },
  {
   "cell_type": "markdown",
   "metadata": {},
   "source": [
    "\n",
    "\n",
    "Generemos un diccionario con los parámetros y arreglos necesarios para integrar la ecuación numéricamente. "
   ]
  },
  {
   "cell_type": "code",
   "execution_count": 4,
   "metadata": {
    "collapsed": false
   },
   "outputs": [
    {
     "name": "stdout",
     "output_type": "stream",
     "text": [
      "dict_keys(['timeStep', 'sampTimes', 'ic', 'timeMax', 'a', 'tau'])\n"
     ]
    }
   ],
   "source": [
    "p=dict() \n",
    "p[\"a\"]=90.0; p[\"tau\"]=45.0; p[\"ic\"]=200.0\n",
    "p[\"timeMax\"]=200; p[\"timeStep\"]=0.1\n",
    "p[\"sampTimes\"]= sc.arange(0,p[\"timeMax\"],p[\"timeStep\"])\n",
    "print(p.keys())\n"
   ]
  },
  {
   "cell_type": "markdown",
   "metadata": {},
   "source": []
  },
  {
   "cell_type": "markdown",
   "metadata": {},
   "source": [
    "Ahora iteremos la función usando la función _integrate.odeint_ de _scipy_"
   ]
  },
  {
   "cell_type": "code",
   "execution_count": 5,
   "metadata": {
    "collapsed": false
   },
   "outputs": [],
   "source": [
    "# Sintaxis:\n",
    "# solucion = odeint(func, y0, t, args)\n",
    "uSol= odeint(func=linearEq, y0=p[\"ic\"], t=p[\"sampTimes\"], args=(p,)).transpose()"
   ]
  },
  {
   "cell_type": "markdown",
   "metadata": {},
   "source": [
    "Explicar la sintaxis de la función odeint, y la forma de la salida de la función. De ahí, explicar la transposición."
   ]
  },
  {
   "cell_type": "code",
   "execution_count": 6,
   "metadata": {
    "collapsed": false
   },
   "outputs": [
    {
     "name": "stdout",
     "output_type": "stream",
     "text": [
      "[ 200.          199.75582679  199.51219561  199.2691053   199.02655453\n",
      "  198.7845426   198.54306816  198.30212993  198.06172665  197.82185704]\n"
     ]
    }
   ],
   "source": [
    "print(uSol[0][0:10])"
   ]
  },
  {
   "cell_type": "markdown",
   "metadata": {},
   "source": [
    "Definamos otra función para comparar la solución analítica $x(t)$ con la solución numérica $u(t)$."
   ]
  },
  {
   "cell_type": "code",
   "execution_count": 7,
   "metadata": {
    "collapsed": true
   },
   "outputs": [],
   "source": [
    "def x(t,p):\n",
    "    return p[\"a\"] - (p[\"a\"]-p[\"ic\"])*sc.exp(-t/p[\"tau\"])"
   ]
  },
  {
   "cell_type": "markdown",
   "metadata": {},
   "source": [
    "Otra manera de definir la función $x$ sería"
   ]
  },
  {
   "cell_type": "code",
   "execution_count": 8,
   "metadata": {
    "collapsed": false
   },
   "outputs": [],
   "source": [
    "x= lambda t,p: p[\"a\"] - (p[\"a\"]-p[\"ic\"])*sc.exp(-t/p[\"tau\"])"
   ]
  },
  {
   "cell_type": "markdown",
   "metadata": {},
   "source": [
    "Como el paso de integración es 0.1, el décimo valor de la solución numérica se puede comparar con el valor de la función $x$ en el tiempo $t=1$."
   ]
  },
  {
   "cell_type": "code",
   "execution_count": 9,
   "metadata": {
    "collapsed": false
   },
   "outputs": [
    {
     "name": "stdout",
     "output_type": "stream",
     "text": [
      "197.582515973\n"
     ]
    }
   ],
   "source": [
    "print(x(1,p))"
   ]
  },
  {
   "cell_type": "markdown",
   "metadata": {},
   "source": [
    "Graficamos la solución analítica $x(t)$ y comparamos contra la solución numérica $u(t)$ y un acercamiento"
   ]
  },
  {
   "cell_type": "code",
   "execution_count": 10,
   "metadata": {
    "collapsed": false
   },
   "outputs": [
    {
     "data": {
      "text/plain": [
       "<matplotlib.legend.Legend at 0x10b02cda0>"
      ]
     },
     "execution_count": 10,
     "metadata": {},
     "output_type": "execute_result"
    },
    {
     "data": {
      "image/png": "[encoded data removed]",
      "text/plain": [
       "<matplotlib.figure.Figure at 0x10af62a58>"
      ]
     },
     "metadata": {},
     "output_type": "display_data"
    }
   ],
   "source": [
    "tt = sc.arange(0,p[\"timeMax\"],p[\"timeStep\"]*100)\n",
    "fig=gr.figure(figsize=(11,5))\n",
    "rows=1; cols=2\n",
    "ax1=fig.add_subplot(rows,cols,1) \n",
    "ax2=fig.add_subplot(rows,cols,2)\n",
    "ax1.plot(p[\"sampTimes\"], uSol[0],'k',lw=3, alpha=0.35, label=r'($t,x(t)$)') \n",
    "ax1.plot(tt,x(tt,p),'bo',label=r'($t,u(t)$)')  \n",
    "ax2.plot(p[\"sampTimes\"], uSol[0],'k',lw=3, alpha=0.35, label=r'($t,x(t)$)') \n",
    "ax2.plot(tt,x(tt,p),'b',label=r'($t,u(t)$)')  \n",
    "ax2.set_xlim(0.008,0.01); ax2.set_ylim(199.95,200.05)\n",
    "ax2.set_xlabel(\"mins\")\n",
    "ax1.set_xlabel(\"mins\")\n",
    "ax2.set_ylabel(\"mg/dl\")\n",
    "ax1.set_ylabel(\"mg/dl\")\n",
    "ax1.legend(); ax2.legend()"
   ]
  }
 ],
 "metadata": {
  "kernelspec": {
   "display_name": "Python 3",
   "language": "python",
   "name": "python3"
  },
  "language_info": {
   "codemirror_mode": {
    "name": "ipython",
    "version": 3
   },
   "file_extension": ".py",
   "mimetype": "text/x-python",
   "name": "python",
   "nbconvert_exporter": "python",
   "pygments_lexer": "ipython3",
   "version": "3.5.1"
  }
 },
 "nbformat": 4,
 "nbformat_minor": 0
}
