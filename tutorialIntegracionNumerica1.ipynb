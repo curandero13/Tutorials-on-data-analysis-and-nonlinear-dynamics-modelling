{
 "cells": [
  {
   "cell_type": "markdown",
   "metadata": {},
   "source": [
    "# Tutorial de solución de ecuaciones diferenciales con parámetros constantes\n",
    "### Lourdes Martín-Aguilar & Marco Herrera Valdez\n",
    "#### Facultad de Ciencias, Universidad Nacional Autónoma de México\n",
    "\n",
    "Resolvamos un problema con valor inicial para una variable $x$ que depende de $t$ \n",
    "\\begin{equation}\n",
    "\\partial_t x = \\frac{a - x}{\\tau}, \\quad x(t_0) = 0 \n",
    "\\end{equation}\n",
    "utilizando las rutinas de integración numérica del módulo _scipy_ de _python_. \n",
    "\n",
    "La solución analítica es de la forma\n",
    "\\begin{equation}\n",
    "x(t) = a - \\left( a - x_0 \\right) \\exp \\left(-\\frac{t}{\\tau} \\right) \n",
    "\\end{equation}\n"
   ]
  },
  {
   "cell_type": "markdown",
   "metadata": {},
   "source": [
    "### Definiciones de funciones y simulación numérica\n",
    "\n",
    "El problema de valor inicial descrito arriba será resuelto mediante el uso de un iterador. Las herramientas necesarias para la integración numérica son parte del paquete _scipy_. La solución numérica y la analítica serán comparadas gráficamente. \n",
    "\n",
    "Primero importemos los módulos necesarios"
   ]
  },
  {
   "cell_type": "code",
   "execution_count": 1,
   "metadata": {
    "collapsed": false
   },
   "outputs": [],
   "source": [
    "import scipy as sc\n",
    "import matplotlib.pylab as gr\n",
    "from scipy.integrate import odeint\n",
    "%matplotlib inline"
   ]
  },
  {
   "cell_type": "markdown",
   "metadata": {},
   "source": [
    "El módulo scipy tiene herramientas para hacer cálculos numéricos, el módulo pylab de matplotlib continene herramientas para graficar arreglos, listas, y otros objetos de python. El comando _matplotlib inline_ instruye al kernel de jupyter (o ipython notebook) para que muestre las figuras dentro del documento."
   ]
  },
  {
   "cell_type": "markdown",
   "metadata": {},
   "source": [
    "Generemos un diccionario con los parámetros y arreglos necesarios para integrar la ecuación numéricamente."
   ]
  },
  {
   "cell_type": "code",
   "execution_count": 4,
   "metadata": {
    "collapsed": false
   },
   "outputs": [
    {
     "name": "stdout",
     "output_type": "stream",
     "text": [
      "dict_keys(['timeMax', 'ic', 'tau', 'a', 'sampTimes', 'timeStep'])\n",
      "[  0.00000000e+00   1.00000000e-01   2.00000000e-01 ...,   2.99700000e+02\n",
      "   2.99800000e+02   2.99900000e+02]\n"
     ]
    }
   ],
   "source": [
    "p=dict()\n",
    "p[\"a\"]=100.0; p[\"tau\"]=40.0; p[\"ic\"]=260.2\n",
    "p[\"timeMax\"]=300.0; p[\"timeStep\"]=0.1;\n",
    "p[\"sampTimes\"]= sc.arange(0,p[\"timeMax\"],p[\"timeStep\"])\n",
    "print(p.keys())\n",
    "print(p[\"sampTimes\"])"
   ]
  },
  {
   "cell_type": "markdown",
   "metadata": {},
   "source": [
    "Definamos una función para que python la integre numéricamente"
   ]
  },
  {
   "cell_type": "code",
   "execution_count": 6,
   "metadata": {
    "collapsed": true
   },
   "outputs": [],
   "source": [
    "def linearEq(u,t,p):\n",
    "    du = (p[\"a\"]-u)/p[\"tau\"]\n",
    "    return du"
   ]
  },
  {
   "cell_type": "markdown",
   "metadata": {},
   "source": [
    "y otra función para la solución analítica"
   ]
  },
  {
   "cell_type": "code",
   "execution_count": 7,
   "metadata": {
    "collapsed": true
   },
   "outputs": [],
   "source": [
    "f= lambda t,p: p[\"a\"] - (p[\"a\"]-p[\"ic\"])*sc.exp(-t/p[\"tau\"])"
   ]
  },
  {
   "cell_type": "markdown",
   "metadata": {},
   "source": [
    "Ahora iteremos la función usando la función _integrate.odeint_ de scipy. "
   ]
  },
  {
   "cell_type": "code",
   "execution_count": 8,
   "metadata": {
    "collapsed": false
   },
   "outputs": [],
   "source": [
    "uSol= odeint(func=linearEq, y0=p[\"ic\"], t=p[\"sampTimes\"],args=(p,)).transpose()"
   ]
  },
  {
   "cell_type": "markdown",
   "metadata": {},
   "source": [
    "El integrador da una solución en forma de un arreglo de $m \\times n$ donde $m$ es el número de puntos en el eje temporal considerados para la integración y $n$ es el número de variables de estado a integrar; en este caso sólo una. La transposición hace más fácil extraer las soluciones para las distintas variables de estado usando un sólo índice. \n",
    "\n",
    "Grafica la solución $y(t)$ y compara contra la solución numérica $u(t)$ y un acercamiento"
   ]
  },
  {
   "cell_type": "code",
   "execution_count": 9,
   "metadata": {
    "collapsed": false
   },
   "outputs": [
    {
     "data": {
      "text/plain": [
       "<matplotlib.legend.Legend at 0x103184f98>"
      ]
     },
     "execution_count": 9,
     "metadata": {},
     "output_type": "execute_result"
    },
    {
     "data": {
      "image/png": "[encoded data removed]",
      "text/plain": [
       "<matplotlib.figure.Figure at 0x106bf0e80>"
      ]
     },
     "metadata": {},
     "output_type": "display_data"
    }
   ],
   "source": [
    "tt = sc.arange(0,p[\"timeMax\"],p[\"timeStep\"]*p[\"timeMax\"]/3.0)\n",
    "fig=gr.figure(figsize=(11,5))\n",
    "rows=1; cols=2\n",
    "ax1=fig.add_subplot(rows,cols,1)\n",
    "ax2=fig.add_subplot(rows,cols,2)\n",
    "ax1.plot(p[\"sampTimes\"], uSol[0],'k',lw=3, alpha=0.35, label=r'($t,y(t)$)')\n",
    "ax1.plot(tt,f(tt,p),'bo',label=r'($t,u(t)$)')\n",
    "ax2.plot(p[\"sampTimes\"], uSol[0],'k', lw=3, alpha=0.35, label=r'($t,y(t)$)')\n",
    "ax2.plot(tt,f(tt,p),'b',label=r'($t,u(t)$)')\n",
    "ax2.set_xlim(1,1.01); ax2.set_ylim(254,258)\n",
    "ax1.legend(); ax2.legend()"
   ]
  },
  {
   "cell_type": "code",
   "execution_count": null,
   "metadata": {
    "collapsed": true
   },
   "outputs": [],
   "source": []
  },
  {
   "cell_type": "code",
   "execution_count": null,
   "metadata": {
    "collapsed": true
   },
   "outputs": [],
   "source": []
  }
 ],
 "metadata": {
  "kernelspec": {
   "display_name": "Python 3",
   "language": "python",
   "name": "python3"
  },
  "language_info": {
   "codemirror_mode": {
    "name": "ipython",
    "version": 3
   },
   "file_extension": ".py",
   "mimetype": "text/x-python",
   "name": "python",
   "nbconvert_exporter": "python",
   "pygments_lexer": "ipython3",
   "version": "3.5.1"
  }
 },
 "nbformat": 4,
 "nbformat_minor": 0
}
