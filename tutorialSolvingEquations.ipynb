{
 "cells": [
  {
   "cell_type": "markdown",
   "metadata": {},
   "source": [
    "# Solving equations tutorial \n",
    "### Prof. Marco Arieli Herrera-Valdez\n",
    "### Facultad de Ciencias, Universidad Nacional Autónoma de México\n",
    "_Created_: MAHV 2016/03/01\n",
    "\n",
    "This tutorial shows how to quickly set up and numerically solve a differential equation of the form \n",
    "\\begin{equation}\n",
    "\\partial_t w = w^a \\left( \\frac{ w_{\\infty} - w }{\\tau} \\right)  \n",
    "\\end{equation}\n",
    "Note that if $a=0$ then the equation has linear dynamics. If $a=1$, then the dynamics are logistic. \n",
    "Let us define the right hand side of the equation.\n",
    "The solutions will be calculated using python (www.python.org).\n"
   ]
  },
  {
   "cell_type": "markdown",
   "metadata": {},
   "source": [
    "#### Basic definitions and setup "
   ]
  },
  {
   "cell_type": "markdown",
   "metadata": {},
   "source": [
    "First, import the necessary modules and perform tests."
   ]
  },
  {
   "cell_type": "code",
   "execution_count": 24,
   "metadata": {
    "collapsed": false
   },
   "outputs": [
    {
     "name": "stderr",
     "output_type": "stream",
     "text": [
      "nose.config: INFO: Ignoring files matching ['^\\\\.', '^_', '^setup\\\\.py$']\n",
      "nose.config: INFO: Excluding tests matching ['f2py_ext', 'f2py_f90_ext', 'gen_ext', 'pyrex_ext', 'swig_ext']\n"
     ]
    },
    {
     "name": "stdout",
     "output_type": "stream",
     "text": [
      "Running unit tests for scipy\n",
      "NumPy version 1.10.4\n",
      "NumPy relaxed strides checking option: False\n",
      "NumPy is installed in /Library/Frameworks/Python.framework/Versions/3.5/lib/python3.5/site-packages/numpy\n",
      "SciPy version 0.17.0\n",
      "SciPy is installed in /Library/Frameworks/Python.framework/Versions/3.5/lib/python3.5/site-packages/scipy\n",
      "Python version 3.5.1 (v3.5.1:37a07cee5969, Dec  5 2015, 21:12:44) [GCC 4.2.1 (Apple Inc. build 5666) (dot 3)]\n",
      "nose version 1.3.7\n"
     ]
    },
    {
     "name": "stderr",
     "output_type": "stream",
     "text": [
      "runTest (test_interpolate_wrapper.Test) ... ok\n",
      "\n",
      "----------------------------------------------------------------------\n",
      "Ran 1 test in 3.592s\n",
      "\n",
      "OK\n"
     ]
    }
   ],
   "source": [
    "import scipy as sc\n",
    "import matplotlib.pylab as gr\n",
    "sc.test(\"all\",verbose=10) #If \n",
    "%matplotlib inline"
   ]
  },
  {
   "cell_type": "markdown",
   "metadata": {},
   "source": [
    "Now define a function that calculates the derivative of $w$ from the equation above."
   ]
  },
  {
   "cell_type": "code",
   "execution_count": 43,
   "metadata": {
    "collapsed": true
   },
   "outputs": [],
   "source": [
    "def gLogistic(w,t,p):\n",
    "    return w**p['a'] * (p['wInf']-w) / p['tau']"
   ]
  },
  {
   "cell_type": "markdown",
   "metadata": {},
   "source": [
    "### Numerical solution of the system for a fixed choice of parameters\n",
    "\n",
    "Setup the initial conditions, a set of simulation time steps, and a dictionary with the parameters for the simulations"
   ]
  },
  {
   "cell_type": "code",
   "execution_count": 46,
   "metadata": {
    "collapsed": true
   },
   "outputs": [],
   "source": [
    "w0=0.1\n",
    "sampTimes=sc.arange(0,30,0.01)\n",
    "pars={\"a\":0.0, \"wInf\":0.735, \"tau\":2.0}"
   ]
  },
  {
   "cell_type": "markdown",
   "metadata": {},
   "source": [
    "Use the solver *odeint* to calculate the solution for $w(t)$"
   ]
  },
  {
   "cell_type": "code",
   "execution_count": null,
   "metadata": {
    "collapsed": true
   },
   "outputs": [],
   "source": [
    "w=sc.integrate.odeint(func=gLogistic, y0=w0, t=sampTimes, args=(pars,)).transpose()"
   ]
  },
  {
   "cell_type": "markdown",
   "metadata": {},
   "source": [
    "and plot the results"
   ]
  },
  {
   "cell_type": "code",
   "execution_count": 45,
   "metadata": {
    "collapsed": false
   },
   "outputs": [
    {
     "data": {
      "text/plain": [
       "<matplotlib.legend.Legend at 0x10bd8f278>"
      ]
     },
     "execution_count": 45,
     "metadata": {},
     "output_type": "execute_result"
    },
    {
     "data": {
      "image/png": "[encoded data removed]",
      "text/plain": [
       "<matplotlib.figure.Figure at 0x103167860>"
      ]
     },
     "metadata": {},
     "output_type": "display_data"
    }
   ],
   "source": [
    "gr.figure(); \n",
    "gr.plot(sampTimes, w[0], lw=3, alpha=0.7, label=r\"$(t,w_{%d})$\"%aVals[n])\n",
    "gr.ylim(0,1)\n",
    "gr.legend()"
   ]
  },
  {
   "cell_type": "markdown",
   "metadata": {},
   "source": [
    "### Numerical solutions for different choices of parameters\n",
    "\n",
    "Now obtain different solutions that correspond to different values of $a \\in \\{0,1,2 \\}$, while all other parameters and initial conditions kept the same. "
   ]
  },
  {
   "cell_type": "code",
   "execution_count": 41,
   "metadata": {
    "collapsed": false
   },
   "outputs": [],
   "source": [
    "w0=0.1\n",
    "sampTimes=sc.arange(0,30,0.01)\n",
    "aVals= sc.array([0,1.0,2.0])\n",
    "nSimulations= len(aVals)\n",
    "pars=list()\n",
    "pars={\"a\":0.0, \"wInf\":0.5, \"tau\":2.0}\n",
    "simulations=list()\n",
    "for n in sc.arange(0, nSimulations):\n",
    "    pars[\"a\"] = aVals[n]\n",
    "    w=sc.integrate.odeint(func=gLogistic, y0=w0, t=sampTimes, args=(pars,)).transpose()\n",
    "    simulations.append(w)"
   ]
  },
  {
   "cell_type": "markdown",
   "metadata": {},
   "source": [
    "Plot the results in the same graph to compare the convergence toward steady states."
   ]
  },
  {
   "cell_type": "code",
   "execution_count": 34,
   "metadata": {
    "collapsed": false
   },
   "outputs": [
    {
     "data": {
      "image/png": "[encoded data removed]",
      "text/plain": [
       "<matplotlib.figure.Figure at 0x10bb0b208>"
      ]
     },
     "metadata": {},
     "output_type": "display_data"
    }
   ],
   "source": [
    "gr.figure(); gr.ioff()\n",
    "for n in sc.arange(0, nSimulations):\n",
    "    gr.plot(sampTimes, simulations[n][0], lw=3, alpha=0.7, label=r\"$(t,w_{%d})$\"%aVals[n])\n",
    "    gr.ylim(0,1)\n",
    "gr.legend()\n",
    "gr.ion(); gr.draw()"
   ]
  },
  {
   "cell_type": "code",
   "execution_count": null,
   "metadata": {
    "collapsed": true
   },
   "outputs": [],
   "source": []
  }
 ],
 "metadata": {
  "kernelspec": {
   "display_name": "Python 3",
   "language": "python",
   "name": "python3"
  },
  "language_info": {
   "codemirror_mode": {
    "name": "ipython",
    "version": 3
   },
   "file_extension": ".py",
   "mimetype": "text/x-python",
   "name": "python",
   "nbconvert_exporter": "python",
   "pygments_lexer": "ipython3",
   "version": "3.5.1"
  }
 },
 "nbformat": 4,
 "nbformat_minor": 0
}
