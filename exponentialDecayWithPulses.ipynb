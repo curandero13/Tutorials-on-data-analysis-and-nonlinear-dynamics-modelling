{
 "cells": [
  {
   "cell_type": "markdown",
   "metadata": {},
   "source": [
    "## Exponential decay with pulses\n",
    "Consider a variable with exponential decay and pulse-forcing with dynamics\n",
    "\\begin{equation}\n",
    "\\partial_t x = -r x + \\phi(t)\n",
    "\\end{equation}\n",
    "where the pulses occur at times $t_1,...,t_k$, thereby forcing the variable $x$ according to\n",
    "\\begin{equation}\n",
    "\\phi(t) = \\sum_{k=1}^{n} H(t-t_k)\\frac{t-t_k}{\\tau} \\exp\\left( 1- \\frac{t-t_k}{\\tau} \\right)\n",
    "\\end{equation}\n",
    "with $H(x)=1$ if $x>0$ and 0 otherwise.\n"
   ]
  },
  {
   "cell_type": "code",
   "execution_count": 11,
   "metadata": {
    "collapsed": false,
    "scrolled": true
   },
   "outputs": [
    {
     "name": "stderr",
     "output_type": "stream",
     "text": [
      "."
     ]
    },
    {
     "name": "stdout",
     "output_type": "stream",
     "text": [
      "Running unit tests for scipy\n",
      "NumPy version 1.10.4\n",
      "NumPy relaxed strides checking option: False\n",
      "NumPy is installed in /usr/local/lib/python3.4/dist-packages/numpy\n",
      "SciPy version 0.14.1\n",
      "SciPy is installed in /usr/lib/python3/dist-packages/scipy\n",
      "Python version 3.4.3+ (default, Oct 14 2015, 16:03:50) [GCC 5.2.1 20151010]\n",
      "nose version 1.3.6\n"
     ]
    },
    {
     "name": "stderr",
     "output_type": "stream",
     "text": [
      "\n",
      "----------------------------------------------------------------------\n",
      "Ran 1 test in 4.061s\n",
      "\n",
      "OK\n"
     ]
    }
   ],
   "source": [
    "import scipy as sc\n",
    "sc.test('all')\n",
    "import pylab as gr\n",
    "%matplotlib inline"
   ]
  },
  {
   "cell_type": "markdown",
   "metadata": {
    "collapsed": true
   },
   "source": [
    "Setup the pulses that will be used to force the system"
   ]
  },
  {
   "cell_type": "code",
   "execution_count": 37,
   "metadata": {
    "collapsed": true
   },
   "outputs": [],
   "source": [
    "pulseStep=10.0; pulseMax=100.0; \n",
    "pulseTimes= sc.arange(0, pulseMax, pulseStep)\n",
    "timeStep=0.01; timeMax=120.0; \n",
    "sampTimes= sc.arange(0, timeMax, timeStep )"
   ]
  },
  {
   "cell_type": "markdown",
   "metadata": {
    "collapsed": true
   },
   "source": [
    "Create a pulse function (alpha function) and then use it to create a train of pulses"
   ]
  },
  {
   "cell_type": "code",
   "execution_count": 63,
   "metadata": {
    "collapsed": false
   },
   "outputs": [],
   "source": [
    "# Alpha function\n",
    "alpha = lambda t,tau: sc.int32(t>0) * (t/tau)* sc.exp(1- t/tau)\n",
    "# Add many pulses, each with the shape of an alpha function\n",
    "def sumAlpha(sampTimes, tau, pulseTimes):\n",
    "        sumA=sc.zeros(len(sampTimes))\n",
    "        for p in pulseTimes:\n",
    "            inds= sc.where(sampTimes>p)[0]\n",
    "            sumA[inds]= sumA[inds] + alpha(sampTimes[inds]-p, tau)\n",
    "        return sumA"
   ]
  },
  {
   "cell_type": "code",
   "execution_count": 64,
   "metadata": {
    "collapsed": false
   },
   "outputs": [
    {
     "name": "stdout",
     "output_type": "stream",
     "text": [
      "[              nan               nan               nan ...,\n",
      "   5.66141509e-128   5.12436948e-128   4.63826785e-128]\n"
     ]
    },
    {
     "name": "stderr",
     "output_type": "stream",
     "text": [
      "/usr/local/lib/python3.4/dist-packages/ipykernel/__main__.py:2: RuntimeWarning: overflow encountered in exp\n",
      "  from ipykernel import kernelapp as app\n",
      "/usr/local/lib/python3.4/dist-packages/ipykernel/__main__.py:2: RuntimeWarning: invalid value encountered in multiply\n",
      "  from ipykernel import kernelapp as app\n"
     ]
    },
    {
     "data": {
      "text/plain": [
       "(-0.1, 1.1)"
      ]
     },
     "execution_count": 64,
     "metadata": {},
     "output_type": "execute_result"
    },
    {
     "data": {
      "image/png": "[encoded data removed]",
      "text/plain": [
       "<matplotlib.figure.Figure at 0x7fad2077b0b8>"
      ]
     },
     "metadata": {},
     "output_type": "display_data"
    }
   ],
   "source": [
    "# Create a train of pulses\n",
    "alpSum=sumAlpha(sampTimes,0.1,pulses)\n",
    "print(alpSum)\n",
    "gr.figure()\n",
    "gr.plot(sampTimes,alpSum)\n",
    "gr.ylim(-0.1,1.1)"
   ]
  },
  {
   "cell_type": "markdown",
   "metadata": {},
   "source": [
    "and an interpolating function that can be used to force the U-dynamics"
   ]
  },
  {
   "cell_type": "code",
   "execution_count": 65,
   "metadata": {
    "collapsed": true
   },
   "outputs": [],
   "source": [
    "phi = lambda t,p: sc.interp(t,p[\"sampTimes\"],sumAlpha(p[\"tau\"],p[\"sampTimes\"],p[\"pulseTimes\"]))"
   ]
  },
  {
   "cell_type": "markdown",
   "metadata": {},
   "source": [
    "Define the right hand side of the system and include the forcing function"
   ]
  },
  {
   "cell_type": "code",
   "execution_count": 66,
   "metadata": {
    "collapsed": true
   },
   "outputs": [],
   "source": [
    "def rhs(U,t,p):\n",
    "    dU = -p['rate']*U + phi(t,p)\n",
    "    return dU\n"
   ]
  },
  {
   "cell_type": "markdown",
   "metadata": {},
   "source": [
    "Setup initial conditions and integrate the system numerically"
   ]
  },
  {
   "cell_type": "code",
   "execution_count": 58,
   "metadata": {
    "collapsed": false
   },
   "outputs": [
    {
     "name": "stderr",
     "output_type": "stream",
     "text": [
      "/usr/local/lib/python3.4/dist-packages/ipykernel/__main__.py:2: RuntimeWarning: overflow encountered in exp\n",
      "  from ipykernel import kernelapp as app\n",
      "/usr/local/lib/python3.4/dist-packages/ipykernel/__main__.py:2: RuntimeWarning: invalid value encountered in multiply\n",
      "  from ipykernel import kernelapp as app\n"
     ]
    }
   ],
   "source": [
    "U0= 1.0\n",
    "p={'rate':0.5,\"tau\":0.1,\"pulseTimes\":pulseTimes,\"sampTimes\":sampTimes}\n",
    "orbit=sc.integrate.odeint(rhs, U0, sampTimes, args=(p,), tcrit=pulseTimes).transpose()"
   ]
  },
  {
   "cell_type": "code",
   "execution_count": 60,
   "metadata": {
    "collapsed": false
   },
   "outputs": [
    {
     "name": "stdout",
     "output_type": "stream",
     "text": [
      "[  0.00000000e+00   1.00000000e-02   2.00000000e-02 ...,   1.19970000e+02\n",
      "   1.19980000e+02   1.19990000e+02]\n",
      "[  1.  nan  nan ...,  nan  nan  nan]\n"
     ]
    },
    {
     "data": {
      "text/plain": [
       "[<matplotlib.lines.Line2D at 0x7fad207e7860>]"
      ]
     },
     "execution_count": 60,
     "metadata": {},
     "output_type": "execute_result"
    },
    {
     "data": {
      "image/png": "[encoded data removed]",
      "text/plain": [
       "<matplotlib.figure.Figure at 0x7fad208b3828>"
      ]
     },
     "metadata": {},
     "output_type": "display_data"
    }
   ],
   "source": [
    "print(sampTimes)\n",
    "print(orbit[0])\n",
    "gr.figure()\n",
    "gr.plot(sampTimes, orbit[0])"
   ]
  },
  {
   "cell_type": "code",
   "execution_count": null,
   "metadata": {
    "collapsed": true
   },
   "outputs": [],
   "source": []
  },
  {
   "cell_type": "markdown",
   "metadata": {},
   "source": [
    "Numerical solution of a linear equation with pulsed forcing\n",
    "Copyright (C) 2017 Marco Arieli Herrera Valdez\n\n",
    "This program is free software: you can redistribute it and/or modify\n",
    "it under the terms of the GNU General Public License as published by\n",
    "the Free Software Foundation, either version 3 of the License, or\n",
    "(at your option) any later version.\n\n",

    "This program is distributed in the hope that it will be useful,\n",
    "but WITHOUT ANY WARRANTY; without even the implied warranty of\n",
    "MERCHANTABILITY or FITNESS FOR A PARTICULAR PURPOSE.  See the\n",
    "GNU General Public License for more details.\n\n",

    "You should have received a copy of the GNU General Public License\n\n",
    "along with this program.  If not, see <http://www.gnu.org/licenses/>.\n",
    "Prof. Marco Arieli Herrera Valdez,\n",
    "Departamento de Matemáticas, Oficina 232\n",
"Facultad de Ciencias, Universidad Nacional Autónoma de México\n",
"+52 55 56223899 ext 45757, +52 55 56224868 (oficina auxiliar) \n",
"E-mail: marcoh@ciencias.unam.mx\n",
"Página institucional: fciencias.unam.mx/directorio/82718\n",
"Página personal: mahv13.wordpress.com\n",
"Research gate: www.researchgate.net/profile/Marco_Herrera-Valdez\n",
"Seminario de Biología Matemática: www.seminariobiologiamatematicaunam.wordpress.com\n",
"Twitter: @brujonildo\n"
   ]
  }
 ],
 "metadata": {
  "kernelspec": {
   "display_name": "Python 3",
   "language": "python",
   "name": "python3"
  },
  "language_info": {
   "codemirror_mode": {
    "name": "ipython",
    "version": 3
   },
   "file_extension": ".py",
   "mimetype": "text/x-python",
   "name": "python",
   "nbconvert_exporter": "python",
   "pygments_lexer": "ipython3",
   "version": "3.4.3+"
  },
  "name": "exponentialDecayWithPulses.ipynb"
 },
 "nbformat": 4,
 "nbformat_minor": 0
}
